{
 "cells": [
  {
   "cell_type": "code",
   "execution_count": 1,
   "id": "0f0d4165",
   "metadata": {},
   "outputs": [],
   "source": [
    "import speedtest\n",
    "from datetime import datetime\n",
    "import pandas as pd\n",
    "from time import sleep\n"
   ]
  },
  {
   "cell_type": "code",
   "execution_count": 2,
   "id": "a09e6c3f",
   "metadata": {},
   "outputs": [],
   "source": [
    "# Caso tenha um server específico\n",
    "# servers = [1234]\n",
    "servers = []\n",
    "# Caso queria usar uma única thread para teste\n",
    "# threads = 1\n",
    "threads = None\n",
    "# Função para testar velocidade de conexão\n",
    "def teste_internet():\n",
    "    df = pd.read_excel('dados.xlsx', sheet_name='base')\n",
    "    s = speedtest.Speedtest()\n",
    "    s.get_servers(servers)\n",
    "    s.get_best_server()\n",
    "    velocidade_download = round(s.download(threads=threads)*(10**-6))\n",
    "    velocidade_upload = round(s.upload(threads=threads)*(10**-6))\n",
    "    data_atual = datetime.now().strftime('%d/%m/%Y')\n",
    "    hora_atual = datetime.now().strftime('%H:%M')\n",
    "    df.loc[len(df)] = [data_atual, hora_atual, velocidade_download, velocidade_upload]\n",
    "    df.to_excel('dados.xlsx', sheet_name='base', index=False)\n",
    "    return data_atual, hora_atual, velocidade_download, velocidade_upload\n"
   ]
  },
  {
   "cell_type": "code",
   "execution_count": 3,
   "id": "6646be87",
   "metadata": {},
   "outputs": [
    {
     "name": "stdout",
     "output_type": "stream",
     "text": [
      "Teste 1/1 Data: 23/07/2021 Hora: 10:06 Download: 9 Upload: 8\n"
     ]
    }
   ],
   "source": [
    "# Definição de variáveis para teste\n",
    "quantidade_testes = 1\n",
    "intervalo_minutos = 2 \n",
    "segundos = 60\n",
    "# Loop para execução dos testes\n",
    "for q in range(quantidade_testes):\n",
    "    data_atual, hora_atual, velocidade_download, velocidade_upload = teste_internet()\n",
    "    print('Teste {}/{} Data: {} Hora: {} Download: {} Upload: {}'.format(q+1, quantidade_testes, data_atual, hora_atual, velocidade_download, velocidade_upload))    \n",
    "    if (q+1) < quantidade_testes:\n",
    "        sleep(intervalo_minutos*segundos)\n"
   ]
  },
  {
   "cell_type": "code",
   "execution_count": null,
   "id": "1c47922f",
   "metadata": {},
   "outputs": [],
   "source": []
  },
  {
   "cell_type": "code",
   "execution_count": null,
   "id": "0912ea28",
   "metadata": {},
   "outputs": [],
   "source": []
  },
  {
   "cell_type": "code",
   "execution_count": null,
   "id": "6df0d689",
   "metadata": {},
   "outputs": [],
   "source": []
  },
  {
   "cell_type": "code",
   "execution_count": null,
   "id": "bb9c1d5c",
   "metadata": {},
   "outputs": [],
   "source": []
  }
 ],
 "metadata": {
  "kernelspec": {
   "display_name": "Python 3 (ipykernel)",
   "language": "python",
   "name": "python3"
  },
  "language_info": {
   "codemirror_mode": {
    "name": "ipython",
    "version": 3
   },
   "file_extension": ".py",
   "mimetype": "text/x-python",
   "name": "python",
   "nbconvert_exporter": "python",
   "pygments_lexer": "ipython3",
   "version": "3.8.2"
  }
 },
 "nbformat": 4,
 "nbformat_minor": 5
}
