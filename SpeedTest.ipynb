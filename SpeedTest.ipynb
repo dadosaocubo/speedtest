{
 "cells": [
  {
   "cell_type": "markdown",
   "id": "1b070c27",
   "metadata": {},
   "source": [
    "## Importando as Bibliotecas"
   ]
  },
  {
   "cell_type": "code",
   "execution_count": 2,
   "id": "a58dfa91",
   "metadata": {},
   "outputs": [],
   "source": [
    "import speedtest\n",
    "from datetime import datetime\n",
    "import pandas as pd\n",
    "from time import sleep\n",
    "import matplotlib.pyplot as plt\n",
    "import seaborn as sns"
   ]
  },
  {
   "cell_type": "markdown",
   "id": "703399d7",
   "metadata": {},
   "source": [
    "## Função para Testar Conexão"
   ]
  },
  {
   "cell_type": "code",
   "execution_count": 6,
   "id": "a09e6c3f",
   "metadata": {},
   "outputs": [],
   "source": [
    "# Função para testar velocidade de conexão\n",
    "def teste_internet():\n",
    "    # lendo base de dados de testes anteriores\n",
    "    df = pd.read_excel('dados.xlsx', sheet_name='base')\n",
    "    # Instanciando a função de test do Speedtest\n",
    "    s = speedtest.Speedtest()\n",
    "    s.get_servers()\n",
    "    s.get_best_server()\n",
    "    # Testando velocidades\n",
    "    velocidade_download = round(s.download(threads=None)*(10**-6))\n",
    "    velocidade_upload = round(s.upload(threads=None)*(10**-6))\n",
    "    # Capturando data e hora do teste\n",
    "    data_atual = datetime.now().strftime('%d/%m/%Y')\n",
    "    hora_atual = datetime.now().strftime('%H:%M')\n",
    "    # Atualizando base de dados dos testes\n",
    "    df.loc[len(df)] = [data_atual, hora_atual, velocidade_download, velocidade_upload]\n",
    "    df.to_excel('dados.xlsx', sheet_name='base', index=False)\n",
    "    return data_atual, hora_atual, velocidade_download, velocidade_upload\n"
   ]
  },
  {
   "cell_type": "markdown",
   "id": "1d640e2f",
   "metadata": {},
   "source": [
    "## Resultados do Teste"
   ]
  },
  {
   "cell_type": "code",
   "execution_count": 9,
   "id": "6646be87",
   "metadata": {},
   "outputs": [
    {
     "name": "stdout",
     "output_type": "stream",
     "text": [
      "Teste 1/10 Data: 27/07/2021 Hora: 10:24 Download: 52 Upload: 26\n",
      "Teste 2/10 Data: 27/07/2021 Hora: 10:25 Download: 46 Upload: 25\n",
      "Teste 3/10 Data: 27/07/2021 Hora: 10:26 Download: 40 Upload: 29\n",
      "Teste 4/10 Data: 27/07/2021 Hora: 10:28 Download: 60 Upload: 30\n",
      "Teste 5/10 Data: 27/07/2021 Hora: 10:29 Download: 60 Upload: 29\n",
      "Teste 6/10 Data: 27/07/2021 Hora: 10:31 Download: 58 Upload: 28\n",
      "Teste 7/10 Data: 27/07/2021 Hora: 10:32 Download: 42 Upload: 30\n",
      "Teste 8/10 Data: 27/07/2021 Hora: 10:33 Download: 52 Upload: 27\n",
      "Teste 9/10 Data: 27/07/2021 Hora: 10:35 Download: 47 Upload: 29\n",
      "Teste 10/10 Data: 27/07/2021 Hora: 10:36 Download: 59 Upload: 23\n"
     ]
    }
   ],
   "source": [
    "# Definição de variáveis para teste\n",
    "quantidade_testes = 10\n",
    "intervalo_minutos = 1 \n",
    "segundos = 60\n",
    "# Loop para execução dos testes\n",
    "for q in range(quantidade_testes):\n",
    "    data_atual, hora_atual, velocidade_download, velocidade_upload = teste_internet()\n",
    "    print('Teste {}/{} Data: {} Hora: {} Download: {} Upload: {}'.format(q+1, quantidade_testes, data_atual, hora_atual, velocidade_download, velocidade_upload))    \n",
    "    if (q+1) < quantidade_testes:\n",
    "        sleep(intervalo_minutos*segundos)\n"
   ]
  },
  {
   "cell_type": "markdown",
   "id": "aa0706b1",
   "metadata": {},
   "source": [
    "## Evolução dos Testes"
   ]
  },
  {
   "cell_type": "code",
   "execution_count": 3,
   "id": "0912ea28",
   "metadata": {},
   "outputs": [
    {
     "data": {
      "text/html": [
       "<div>\n",
       "<style scoped>\n",
       "    .dataframe tbody tr th:only-of-type {\n",
       "        vertical-align: middle;\n",
       "    }\n",
       "\n",
       "    .dataframe tbody tr th {\n",
       "        vertical-align: top;\n",
       "    }\n",
       "\n",
       "    .dataframe thead th {\n",
       "        text-align: right;\n",
       "    }\n",
       "</style>\n",
       "<table border=\"1\" class=\"dataframe\">\n",
       "  <thead>\n",
       "    <tr style=\"text-align: right;\">\n",
       "      <th></th>\n",
       "      <th>Data</th>\n",
       "      <th>Hora</th>\n",
       "      <th>TaxaDownload (Mbps)</th>\n",
       "      <th>TaxaUpload (Mbps)</th>\n",
       "      <th>ContratoDownload (Mbps)</th>\n",
       "      <th>ContratoUpload (Mbps)</th>\n",
       "    </tr>\n",
       "  </thead>\n",
       "  <tbody>\n",
       "    <tr>\n",
       "      <th>0</th>\n",
       "      <td>22/07/2021</td>\n",
       "      <td>12:27</td>\n",
       "      <td>18</td>\n",
       "      <td>22</td>\n",
       "      <td>50</td>\n",
       "      <td>25</td>\n",
       "    </tr>\n",
       "    <tr>\n",
       "      <th>1</th>\n",
       "      <td>22/07/2021</td>\n",
       "      <td>12:30</td>\n",
       "      <td>14</td>\n",
       "      <td>20</td>\n",
       "      <td>50</td>\n",
       "      <td>25</td>\n",
       "    </tr>\n",
       "    <tr>\n",
       "      <th>2</th>\n",
       "      <td>22/07/2021</td>\n",
       "      <td>12:36</td>\n",
       "      <td>16</td>\n",
       "      <td>18</td>\n",
       "      <td>50</td>\n",
       "      <td>25</td>\n",
       "    </tr>\n",
       "    <tr>\n",
       "      <th>3</th>\n",
       "      <td>22/07/2021</td>\n",
       "      <td>12:54</td>\n",
       "      <td>1</td>\n",
       "      <td>19</td>\n",
       "      <td>50</td>\n",
       "      <td>25</td>\n",
       "    </tr>\n",
       "    <tr>\n",
       "      <th>4</th>\n",
       "      <td>22/07/2021</td>\n",
       "      <td>12:55</td>\n",
       "      <td>13</td>\n",
       "      <td>24</td>\n",
       "      <td>50</td>\n",
       "      <td>25</td>\n",
       "    </tr>\n",
       "  </tbody>\n",
       "</table>\n",
       "</div>"
      ],
      "text/plain": [
       "         Data   Hora  TaxaDownload (Mbps)  TaxaUpload (Mbps)  \\\n",
       "0  22/07/2021  12:27                   18                 22   \n",
       "1  22/07/2021  12:30                   14                 20   \n",
       "2  22/07/2021  12:36                   16                 18   \n",
       "3  22/07/2021  12:54                    1                 19   \n",
       "4  22/07/2021  12:55                   13                 24   \n",
       "\n",
       "   ContratoDownload (Mbps)  ContratoUpload (Mbps)  \n",
       "0                       50                     25  \n",
       "1                       50                     25  \n",
       "2                       50                     25  \n",
       "3                       50                     25  \n",
       "4                       50                     25  "
      ]
     },
     "execution_count": 3,
     "metadata": {},
     "output_type": "execute_result"
    }
   ],
   "source": [
    "# Carregando dados dos testes de conexões\n",
    "df = pd.read_excel('dados.xlsx', sheet_name='base')\n",
    "df['ContratoDownload (Mbps)'] = 50\n",
    "df['ContratoUpload (Mbps)'] = 25\n",
    "df.head()"
   ]
  },
  {
   "cell_type": "code",
   "execution_count": null,
   "id": "6df0d689",
   "metadata": {},
   "outputs": [],
   "source": [
    "# configura parametros de tamanho dos gráficos\n",
    "sns.set_theme(style=\"whitegrid\")\n",
    "plt.rcParams['figure.figsize'] = (20,10)\n",
    "plt.rcParams['xtick.labelsize'] = 10\n",
    "plt.rcParams['ytick.labelsize'] = 10\n",
    "plt.rcParams['font.size'] = 15 \n",
    "plt.rcParams['axes.titlesize'] = 20\n",
    "\n",
    "# Gráfico de linha dos teste\n",
    "sns.lineplot(data=df,\n",
    "             palette=\"tab10\",\n",
    "             linewidth=2.5)\n",
    "plt.title('Sua conexão de internet entrega o que foi contratado?')\n",
    "plt.xlabel('Testes')\n",
    "plt.ylabel('Velocidade')\n",
    "plt.show()"
   ]
  },
  {
   "cell_type": "code",
   "execution_count": null,
   "id": "bb9c1d5c",
   "metadata": {},
   "outputs": [],
   "source": []
  },
  {
   "cell_type": "code",
   "execution_count": null,
   "id": "9fe593ce",
   "metadata": {},
   "outputs": [],
   "source": []
  },
  {
   "cell_type": "code",
   "execution_count": null,
   "id": "ed87494c",
   "metadata": {},
   "outputs": [],
   "source": []
  }
 ],
 "metadata": {
  "kernelspec": {
   "display_name": "Python 3 (ipykernel)",
   "language": "python",
   "name": "python3"
  },
  "language_info": {
   "codemirror_mode": {
    "name": "ipython",
    "version": 3
   },
   "file_extension": ".py",
   "mimetype": "text/x-python",
   "name": "python",
   "nbconvert_exporter": "python",
   "pygments_lexer": "ipython3",
   "version": "3.8.2"
  }
 },
 "nbformat": 4,
 "nbformat_minor": 5
}
